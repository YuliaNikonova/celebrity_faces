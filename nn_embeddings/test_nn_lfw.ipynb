{
 "cells": [
  {
   "cell_type": "code",
   "execution_count": 1,
   "metadata": {},
   "outputs": [
    {
     "name": "stderr",
     "output_type": "stream",
     "text": [
      "/Users/yuki/anaconda3/envs/celebrity_faces/lib/python3.5/importlib/_bootstrap.py:222: RuntimeWarning: compiletime version 3.6 of module 'tensorflow.python.framework.fast_tensor_util' does not match runtime version 3.5\n",
      "  return f(*args, **kwds)\n"
     ]
    }
   ],
   "source": [
    "import os\n",
    "import sys\n",
    "import numpy as np\n",
    "from os.path import abspath, dirname, join, expanduser\n",
    "from tqdm import trange\n",
    "CF_DIR = join(expanduser('~'), 'repos', 'celebrity_faces')\n",
    "DATA_DIR = join(CF_DIR, 'data')\n",
    "FACENET_SRC_DIR = join(CF_DIR, 'nn_embeddings', 'facenet_src')\n",
    "sys.path.append(FACENET_SRC_DIR)\n",
    "from image_processing import *\n",
    "from lfw import get_paths, read_pairs, evaluate"
   ]
  },
  {
   "cell_type": "code",
   "execution_count": 2,
   "metadata": {},
   "outputs": [],
   "source": [
    "PAIRS_PATH = join(DATA_DIR, 'pairs.txt')\n",
    "LFW_RAW_PATH = join(DATA_DIR,  'lfw_raw')"
   ]
  },
  {
   "cell_type": "code",
   "execution_count": 3,
   "metadata": {},
   "outputs": [],
   "source": [
    "pairs = read_pairs(PAIRS_PATH)\n",
    "paths, actual_issame = get_paths(LFW_RAW_PATH, pairs)"
   ]
  },
  {
   "cell_type": "code",
   "execution_count": 4,
   "metadata": {},
   "outputs": [
    {
     "name": "stdout",
     "output_type": "stream",
     "text": [
      "Loading nets for face detection...\n",
      "Loading images...\n"
     ]
    }
   ],
   "source": [
    "print('Loading nets for face detection...')\n",
    "pnet, rnet, onet = get_face_detect_nets()\n",
    "\n",
    "print('Loading images...')\n",
    "original_images = [load_image_from_file(path) for path in paths]"
   ]
  },
  {
   "cell_type": "code",
   "execution_count": 5,
   "metadata": {},
   "outputs": [
    {
     "name": "stdout",
     "output_type": "stream",
     "text": [
      "Loading net for embeddings...\n",
      "WARNING:tensorflow:The saved meta_graph is possibly from an older release:\n",
      "'model_variables' collection should be of type 'byte_list', but instead is of type 'node_list'.\n",
      "INFO:tensorflow:Restoring parameters from /Users/yuki/repos/celebrity_faces/data/models/20170512-110547/model-20170512-110547.ckpt-250000\n"
     ]
    }
   ],
   "source": [
    "print('Loading net for embeddings...')\n",
    "sess, images_placeholder, embeddings, phase_train_placeholder = get_tf_session()"
   ]
  },
  {
   "cell_type": "code",
   "execution_count": 6,
   "metadata": {},
   "outputs": [],
   "source": [
    "nrof_images = len(original_images)\n",
    "batch_size = 100\n",
    "nrof_batches = nrof_images // batch_size"
   ]
  },
  {
   "cell_type": "code",
   "execution_count": 7,
   "metadata": {},
   "outputs": [],
   "source": [
    "embedding_size = embeddings.get_shape()[1]\n",
    "emb_array = np.zeros((nrof_images, embedding_size))"
   ]
  },
  {
   "cell_type": "code",
   "execution_count": 8,
   "metadata": {},
   "outputs": [
    {
     "name": "stderr",
     "output_type": "stream",
     "text": [
      "100%|██████████| 120/120 [33:43<00:00, 16.86s/it]\n"
     ]
    }
   ],
   "source": [
    "for i in trange(nrof_batches):\n",
    "    start_index = i * batch_size\n",
    "    end_index = min((i + 1) * batch_size, nrof_images)\n",
    "    images_batch = original_images[start_index:end_index]\n",
    "    aligned_images = align_data(images_batch, pnet, rnet, onet)\n",
    "    feed_dict = {images_placeholder: aligned_images, phase_train_placeholder: False}\n",
    "    emb_array[start_index:end_index, :] = sess.run(embeddings, feed_dict=feed_dict)"
   ]
  },
  {
   "cell_type": "code",
   "execution_count": 9,
   "metadata": {},
   "outputs": [
    {
     "name": "stdout",
     "output_type": "stream",
     "text": [
      "Evaluating...\n",
      "Accuracy: 0.96983+-0.00353\n",
      "Validation rate: 0.91300+-0.01531 @ FAR=0.00100\n"
     ]
    }
   ],
   "source": [
    "print('Evaluating...')\n",
    "tpr, fpr, accuracy, val, val_std, far = evaluate(emb_array,\n",
    "                                                 actual_issame,\n",
    "                                                 nrof_folds=10,\n",
    "                                                 distance_metric=1,\n",
    "                                                 subtract_mean=True)\n",
    "\n",
    "print('Accuracy: %2.5f+-%2.5f' % (np.mean(accuracy), np.std(accuracy)))\n",
    "print('Validation rate: %2.5f+-%2.5f @ FAR=%2.5f' % (val, val_std, far))"
   ]
  },
  {
   "cell_type": "code",
   "execution_count": null,
   "metadata": {},
   "outputs": [],
   "source": []
  },
  {
   "cell_type": "code",
   "execution_count": null,
   "metadata": {},
   "outputs": [],
   "source": []
  },
  {
   "cell_type": "code",
   "execution_count": null,
   "metadata": {},
   "outputs": [],
   "source": []
  },
  {
   "cell_type": "code",
   "execution_count": null,
   "metadata": {},
   "outputs": [],
   "source": []
  },
  {
   "cell_type": "code",
   "execution_count": null,
   "metadata": {},
   "outputs": [],
   "source": []
  },
  {
   "cell_type": "code",
   "execution_count": null,
   "metadata": {},
   "outputs": [],
   "source": []
  },
  {
   "cell_type": "code",
   "execution_count": null,
   "metadata": {},
   "outputs": [],
   "source": []
  },
  {
   "cell_type": "code",
   "execution_count": null,
   "metadata": {},
   "outputs": [],
   "source": []
  },
  {
   "cell_type": "code",
   "execution_count": null,
   "metadata": {},
   "outputs": [],
   "source": []
  }
 ],
 "metadata": {
  "kernelspec": {
   "display_name": "Python 3",
   "language": "python",
   "name": "python3"
  },
  "language_info": {
   "codemirror_mode": {
    "name": "ipython",
    "version": 3
   },
   "file_extension": ".py",
   "mimetype": "text/x-python",
   "name": "python",
   "nbconvert_exporter": "python",
   "pygments_lexer": "ipython3",
   "version": "3.5.5"
  }
 },
 "nbformat": 4,
 "nbformat_minor": 2
}
