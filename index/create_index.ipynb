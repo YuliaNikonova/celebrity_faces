{
 "cells": [
  {
   "cell_type": "code",
   "execution_count": 9,
   "metadata": {},
   "outputs": [],
   "source": [
    "from annoy import AnnoyIndex\n",
    "from flask import Flask, request, Response\n",
    "from os.path import dirname, join, abspath, expanduser\n",
    "from os import getenv\n",
    "import json\n",
    "import jsonpickle"
   ]
  },
  {
   "cell_type": "code",
   "execution_count": 10,
   "metadata": {},
   "outputs": [],
   "source": [
    "DATA_DIR = join(expanduser('~'), 'repos', 'celebrity_faces', 'data')"
   ]
  },
  {
   "cell_type": "code",
   "execution_count": 11,
   "metadata": {},
   "outputs": [
    {
     "name": "stdout",
     "output_type": "stream",
     "text": [
      "/Users/yuki/repos/celebrity_faces/data/index.ann\n"
     ]
    }
   ],
   "source": [
    "INDEX_FILENAME = getenv('INDEX_FILENAME', join(DATA_DIR, 'index.ann'))\n",
    "PATHS_JSON = getenv('INDEX_FILENAME', join(DATA_DIR, 'paths.json'))\n",
    "EMBEDDING_JSON = getenv('EMBEDDING_JSON', join(DATA_DIR, 'embeddings.json'))\n",
    "\n",
    "print(INDEX_FILENAME)"
   ]
  },
  {
   "cell_type": "code",
   "execution_count": 12,
   "metadata": {},
   "outputs": [],
   "source": [
    "with open(PATHS_JSON, 'r') as fp:\n",
    "    PATHS = json.load(fp)\n",
    "\n",
    "with open(EMBEDDING_JSON, 'r') as fp:\n",
    "    embeddings = json.load(fp)\n",
    "\n",
    "dim = len(embeddings[0])\n",
    "embedding_index = AnnoyIndex(dim)"
   ]
  },
  {
   "cell_type": "code",
   "execution_count": 13,
   "metadata": {},
   "outputs": [
    {
     "name": "stdout",
     "output_type": "stream",
     "text": [
      "Building index...\n",
      "0 vectors added\n",
      "500 vectors added\n",
      "1000 vectors added\n",
      "1500 vectors added\n",
      "2000 vectors added\n",
      "2500 vectors added\n",
      "3000 vectors added\n",
      "3500 vectors added\n",
      "4000 vectors added\n",
      "4500 vectors added\n",
      "5000 vectors added\n",
      "5500 vectors added\n",
      "6000 vectors added\n",
      "6500 vectors added\n",
      "7000 vectors added\n",
      "7500 vectors added\n",
      "8000 vectors added\n",
      "8500 vectors added\n",
      "9000 vectors added\n",
      "9500 vectors added\n",
      "10000 vectors added\n",
      "10500 vectors added\n",
      "11000 vectors added\n",
      "11500 vectors added\n",
      "12000 vectors added\n",
      "12500 vectors added\n",
      "13000 vectors added\n"
     ]
    }
   ],
   "source": [
    "print('Building index...')\n",
    "for index, vector in enumerate(embeddings):\n",
    "    if index % 500 == 0:\n",
    "        print(\"{} vectors added\".format(index))\n",
    "        embedding_index.add_item(index, vector)  "
   ]
  },
  {
   "cell_type": "code",
   "execution_count": 14,
   "metadata": {},
   "outputs": [
    {
     "data": {
      "text/plain": [
       "True"
      ]
     },
     "execution_count": 14,
     "metadata": {},
     "output_type": "execute_result"
    }
   ],
   "source": [
    "embedding_index.build(10)  # 10 trees\n",
    "embedding_index.save(INDEX_FILENAME)      "
   ]
  },
  {
   "cell_type": "code",
   "execution_count": null,
   "metadata": {},
   "outputs": [],
   "source": []
  },
  {
   "cell_type": "code",
   "execution_count": null,
   "metadata": {},
   "outputs": [],
   "source": []
  },
  {
   "cell_type": "code",
   "execution_count": null,
   "metadata": {},
   "outputs": [],
   "source": []
  },
  {
   "cell_type": "code",
   "execution_count": null,
   "metadata": {},
   "outputs": [],
   "source": []
  },
  {
   "cell_type": "code",
   "execution_count": null,
   "metadata": {},
   "outputs": [],
   "source": []
  },
  {
   "cell_type": "code",
   "execution_count": null,
   "metadata": {},
   "outputs": [],
   "source": []
  },
  {
   "cell_type": "code",
   "execution_count": null,
   "metadata": {},
   "outputs": [],
   "source": []
  },
  {
   "cell_type": "code",
   "execution_count": null,
   "metadata": {},
   "outputs": [],
   "source": []
  },
  {
   "cell_type": "code",
   "execution_count": null,
   "metadata": {},
   "outputs": [],
   "source": []
  },
  {
   "cell_type": "code",
   "execution_count": null,
   "metadata": {},
   "outputs": [],
   "source": []
  }
 ],
 "metadata": {
  "kernelspec": {
   "display_name": "Python 3",
   "language": "python",
   "name": "python3"
  },
  "language_info": {
   "codemirror_mode": {
    "name": "ipython",
    "version": 3
   },
   "file_extension": ".py",
   "mimetype": "text/x-python",
   "name": "python",
   "nbconvert_exporter": "python",
   "pygments_lexer": "ipython3",
   "version": "3.5.5"
  }
 },
 "nbformat": 4,
 "nbformat_minor": 2
}
